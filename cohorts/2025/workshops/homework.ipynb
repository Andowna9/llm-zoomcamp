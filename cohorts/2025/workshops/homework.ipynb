{
 "cells": [
  {
   "cell_type": "markdown",
   "id": "198da240",
   "metadata": {},
   "source": [
    "### Q1 - dlt version"
   ]
  },
  {
   "cell_type": "code",
   "execution_count": 1,
   "id": "2e829447",
   "metadata": {},
   "outputs": [
    {
     "name": "stdout",
     "output_type": "stream",
     "text": [
      "Note: you may need to restart the kernel to use updated packages.\n"
     ]
    },
    {
     "name": "stderr",
     "output_type": "stream",
     "text": [
      "\n",
      "[notice] A new release of pip is available: 24.3.1 -> 25.1.1\n",
      "[notice] To update, run: python.exe -m pip install --upgrade pip\n"
     ]
    }
   ],
   "source": [
    "%pip install -q \"dlt[qdrant]\" \"qdrant-client[fastembed]\""
   ]
  },
  {
   "cell_type": "code",
   "execution_count": 3,
   "id": "bbe4a9be",
   "metadata": {},
   "outputs": [
    {
     "name": "stdout",
     "output_type": "stream",
     "text": [
      "dlt==1.12.3\n",
      "Note: you may need to restart the kernel to use updated packages.\n"
     ]
    }
   ],
   "source": [
    "# Linux: pip freeze | grep \"dlt\"\n",
    "%pip freeze | findstr \"dlt\""
   ]
  },
  {
   "cell_type": "markdown",
   "id": "98aa3cc9",
   "metadata": {},
   "source": [
    "### Q2 - dlt pipeline"
   ]
  },
  {
   "cell_type": "markdown",
   "id": "fd06581b",
   "metadata": {},
   "source": [
    "The resource is responsible for yielding data."
   ]
  },
  {
   "cell_type": "code",
   "execution_count": 4,
   "id": "748b8df9",
   "metadata": {},
   "outputs": [],
   "source": [
    "import requests\n",
    "import dlt\n",
    "\n",
    "@dlt.resource\n",
    "def zoomcamp_data():\n",
    "    docs_url = 'https://github.com/alexeygrigorev/llm-rag-workshop/raw/main/notebooks/documents.json'\n",
    "    docs_response = requests.get(docs_url)\n",
    "    documents_raw = docs_response.json()\n",
    "\n",
    "    for course in documents_raw:\n",
    "        course_name = course['course']\n",
    "\n",
    "        for doc in course['documents']:\n",
    "            doc['course'] = course_name\n",
    "            yield doc"
   ]
  },
  {
   "cell_type": "markdown",
   "id": "a56b5610",
   "metadata": {},
   "source": [
    "Defininig quadrant destination (local folder). This can also be done using dlt secrets file."
   ]
  },
  {
   "cell_type": "code",
   "execution_count": 5,
   "id": "68db9d8e",
   "metadata": {},
   "outputs": [],
   "source": [
    "from dlt.destinations import qdrant\n",
    "\n",
    "qdrant_destination = qdrant(\n",
    "  qd_path=\"db.qdrant\", \n",
    ")"
   ]
  },
  {
   "cell_type": "markdown",
   "id": "3dd68eea",
   "metadata": {},
   "source": [
    "Now we can run the pipeline by providing the resource generator, the destination and dataset name."
   ]
  },
  {
   "cell_type": "code",
   "execution_count": 8,
   "id": "0e847c06",
   "metadata": {},
   "outputs": [
    {
     "name": "stdout",
     "output_type": "stream",
     "text": [
      "Run started at 2025-07-04 19:34:06.528762+00:00 and COMPLETED in 8.06 seconds with 4 steps.\n",
      "Step extract COMPLETED in 0.37 seconds.\n",
      "\n",
      "Load package 1751657647.9283087 is EXTRACTED and NOT YET LOADED to the destination and contains no failed jobs\n",
      "\n",
      "Step normalize COMPLETED in 0.12 seconds.\n",
      "Normalized data for the following tables:\n",
      "- zoomcamp_data: 948 row(s)\n",
      "- _dlt_pipeline_state: 1 row(s)\n",
      "\n",
      "Load package 1751657647.9283087 is NORMALIZED and NOT YET LOADED to the destination and contains no failed jobs\n",
      "\n",
      "Step load COMPLETED in 6.18 seconds.\n",
      "Pipeline zoomcamp_pipeline load step completed in 6.15 seconds\n",
      "1 load package(s) were loaded to destination qdrant and into dataset zoomcamp_tagged_data\n",
      "The qdrant destination used c:\\Users\\usuario\\Programming\\llm-zoomcamp\\cohorts\\2025\\workshops\\db.qdrant location to store data\n",
      "Load package 1751657647.9283087 is LOADED and contains no failed jobs\n",
      "\n",
      "Step run COMPLETED in 8.06 seconds.\n",
      "Pipeline zoomcamp_pipeline load step completed in 6.15 seconds\n",
      "1 load package(s) were loaded to destination qdrant and into dataset zoomcamp_tagged_data\n",
      "The qdrant destination used c:\\Users\\usuario\\Programming\\llm-zoomcamp\\cohorts\\2025\\workshops\\db.qdrant location to store data\n",
      "Load package 1751657647.9283087 is LOADED and contains no failed jobs\n"
     ]
    }
   ],
   "source": [
    "pipeline = dlt.pipeline(\n",
    "    pipeline_name=\"zoomcamp_pipeline\",\n",
    "    destination=qdrant_destination,\n",
    "    dataset_name=\"zoomcamp_tagged_data\"\n",
    ")\n",
    "\n",
    "load_info = pipeline.run(zoomcamp_data())\n",
    "print(pipeline.last_trace)"
   ]
  },
  {
   "cell_type": "markdown",
   "id": "888a74e5",
   "metadata": {},
   "source": [
    "Number of rows inserted:"
   ]
  },
  {
   "cell_type": "code",
   "execution_count": 22,
   "id": "f4a3e6c5",
   "metadata": {},
   "outputs": [
    {
     "data": {
      "text/plain": [
       "{'zoomcamp_data': 948, '_dlt_pipeline_state': 1}"
      ]
     },
     "execution_count": 22,
     "metadata": {},
     "output_type": "execute_result"
    }
   ],
   "source": [
    "pipeline.last_trace.last_normalize_info.row_counts"
   ]
  },
  {
   "cell_type": "markdown",
   "id": "9ec202de",
   "metadata": {},
   "source": [
    "### Q3 - Embedding Model"
   ]
  },
  {
   "cell_type": "markdown",
   "id": "594b83bb",
   "metadata": {},
   "source": [
    "We can check the embedding model being used thanks to the metadata generated by dlt."
   ]
  },
  {
   "cell_type": "code",
   "execution_count": 28,
   "id": "77fd274d",
   "metadata": {},
   "outputs": [
    {
     "data": {
      "text/plain": [
       "{'fast-bge-small-en': {'size': 384,\n",
       "  'distance': 'Cosine',\n",
       "  'hnsw_config': None,\n",
       "  'quantization_config': None,\n",
       "  'on_disk': None,\n",
       "  'datatype': None,\n",
       "  'multivector_config': None}}"
      ]
     },
     "execution_count": 28,
     "metadata": {},
     "output_type": "execute_result"
    }
   ],
   "source": [
    "import json\n",
    "\n",
    "with open(\"db.qdrant/meta.json\", \"r\") as file:\n",
    "    metadata = json.load(file)\n",
    "\n",
    "metadata[\"collections\"][\"zoomcamp_tagged_data\"][\"vectors\"]"
   ]
  }
 ],
 "metadata": {
  "kernelspec": {
   "display_name": ".venv",
   "language": "python",
   "name": "python3"
  },
  "language_info": {
   "codemirror_mode": {
    "name": "ipython",
    "version": 3
   },
   "file_extension": ".py",
   "mimetype": "text/x-python",
   "name": "python",
   "nbconvert_exporter": "python",
   "pygments_lexer": "ipython3",
   "version": "3.13.1"
  }
 },
 "nbformat": 4,
 "nbformat_minor": 5
}
