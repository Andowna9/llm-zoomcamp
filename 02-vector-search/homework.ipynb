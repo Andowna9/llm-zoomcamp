{
 "cells": [
  {
   "cell_type": "markdown",
   "id": "ae2c8cb5",
   "metadata": {},
   "source": [
    "### Q1 - Embedding The Query"
   ]
  },
  {
   "cell_type": "code",
   "execution_count": 1,
   "id": "5fc6e03b",
   "metadata": {},
   "outputs": [
    {
     "name": "stdout",
     "output_type": "stream",
     "text": [
      "Requirement already satisfied: qdrant-client[fastembed] in c:\\users\\usuario\\programming\\llm-zoomcamp\\.venv\\lib\\site-packages (1.14.3)\n",
      "Requirement already satisfied: fastembed<0.8,>=0.7 in c:\\users\\usuario\\programming\\llm-zoomcamp\\.venv\\lib\\site-packages (from qdrant-client[fastembed]) (0.7.1)\n",
      "Requirement already satisfied: grpcio>=1.41.0 in c:\\users\\usuario\\programming\\llm-zoomcamp\\.venv\\lib\\site-packages (from qdrant-client[fastembed]) (1.73.0)\n",
      "Requirement already satisfied: httpx>=0.20.0 in c:\\users\\usuario\\programming\\llm-zoomcamp\\.venv\\lib\\site-packages (from httpx[http2]>=0.20.0->qdrant-client[fastembed]) (0.28.1)\n",
      "Requirement already satisfied: numpy>=2.1.0 in c:\\users\\usuario\\programming\\llm-zoomcamp\\.venv\\lib\\site-packages (from qdrant-client[fastembed]) (2.3.1)\n",
      "Requirement already satisfied: portalocker<3.0.0,>=2.7.0 in c:\\users\\usuario\\programming\\llm-zoomcamp\\.venv\\lib\\site-packages (from qdrant-client[fastembed]) (2.10.1)\n",
      "Requirement already satisfied: protobuf>=3.20.0 in c:\\users\\usuario\\programming\\llm-zoomcamp\\.venv\\lib\\site-packages (from qdrant-client[fastembed]) (6.31.1)\n",
      "Requirement already satisfied: pydantic!=2.0.*,!=2.1.*,!=2.2.0,>=1.10.8 in c:\\users\\usuario\\programming\\llm-zoomcamp\\.venv\\lib\\site-packages (from qdrant-client[fastembed]) (2.11.7)\n",
      "Requirement already satisfied: urllib3<3,>=1.26.14 in c:\\users\\usuario\\programming\\llm-zoomcamp\\.venv\\lib\\site-packages (from qdrant-client[fastembed]) (2.4.0)\n",
      "Requirement already satisfied: huggingface-hub<1.0,>=0.20 in c:\\users\\usuario\\programming\\llm-zoomcamp\\.venv\\lib\\site-packages (from fastembed<0.8,>=0.7->qdrant-client[fastembed]) (0.33.0)\n",
      "Requirement already satisfied: loguru<0.8.0,>=0.7.2 in c:\\users\\usuario\\programming\\llm-zoomcamp\\.venv\\lib\\site-packages (from fastembed<0.8,>=0.7->qdrant-client[fastembed]) (0.7.3)\n",
      "Requirement already satisfied: mmh3<6.0.0,>=4.1.0 in c:\\users\\usuario\\programming\\llm-zoomcamp\\.venv\\lib\\site-packages (from fastembed<0.8,>=0.7->qdrant-client[fastembed]) (5.1.0)\n",
      "Requirement already satisfied: onnxruntime>1.20.0 in c:\\users\\usuario\\programming\\llm-zoomcamp\\.venv\\lib\\site-packages (from fastembed<0.8,>=0.7->qdrant-client[fastembed]) (1.22.0)\n",
      "Requirement already satisfied: pillow<12.0.0,>=10.3.0 in c:\\users\\usuario\\programming\\llm-zoomcamp\\.venv\\lib\\site-packages (from fastembed<0.8,>=0.7->qdrant-client[fastembed]) (11.2.1)\n",
      "Requirement already satisfied: py-rust-stemmers<0.2.0,>=0.1.0 in c:\\users\\usuario\\programming\\llm-zoomcamp\\.venv\\lib\\site-packages (from fastembed<0.8,>=0.7->qdrant-client[fastembed]) (0.1.5)\n",
      "Requirement already satisfied: requests<3.0,>=2.31 in c:\\users\\usuario\\programming\\llm-zoomcamp\\.venv\\lib\\site-packages (from fastembed<0.8,>=0.7->qdrant-client[fastembed]) (2.32.4)\n",
      "Requirement already satisfied: tokenizers<1.0,>=0.15 in c:\\users\\usuario\\programming\\llm-zoomcamp\\.venv\\lib\\site-packages (from fastembed<0.8,>=0.7->qdrant-client[fastembed]) (0.21.1)\n",
      "Requirement already satisfied: tqdm<5.0,>=4.66 in c:\\users\\usuario\\programming\\llm-zoomcamp\\.venv\\lib\\site-packages (from fastembed<0.8,>=0.7->qdrant-client[fastembed]) (4.67.1)\n",
      "Requirement already satisfied: anyio in c:\\users\\usuario\\programming\\llm-zoomcamp\\.venv\\lib\\site-packages (from httpx>=0.20.0->httpx[http2]>=0.20.0->qdrant-client[fastembed]) (4.9.0)\n",
      "Requirement already satisfied: certifi in c:\\users\\usuario\\programming\\llm-zoomcamp\\.venv\\lib\\site-packages (from httpx>=0.20.0->httpx[http2]>=0.20.0->qdrant-client[fastembed]) (2025.6.15)\n",
      "Requirement already satisfied: httpcore==1.* in c:\\users\\usuario\\programming\\llm-zoomcamp\\.venv\\lib\\site-packages (from httpx>=0.20.0->httpx[http2]>=0.20.0->qdrant-client[fastembed]) (1.0.9)\n",
      "Requirement already satisfied: idna in c:\\users\\usuario\\programming\\llm-zoomcamp\\.venv\\lib\\site-packages (from httpx>=0.20.0->httpx[http2]>=0.20.0->qdrant-client[fastembed]) (3.10)\n",
      "Requirement already satisfied: h11>=0.16 in c:\\users\\usuario\\programming\\llm-zoomcamp\\.venv\\lib\\site-packages (from httpcore==1.*->httpx>=0.20.0->httpx[http2]>=0.20.0->qdrant-client[fastembed]) (0.16.0)\n",
      "Requirement already satisfied: h2<5,>=3 in c:\\users\\usuario\\programming\\llm-zoomcamp\\.venv\\lib\\site-packages (from httpx[http2]>=0.20.0->qdrant-client[fastembed]) (4.2.0)\n",
      "Requirement already satisfied: pywin32>=226 in c:\\users\\usuario\\programming\\llm-zoomcamp\\.venv\\lib\\site-packages (from portalocker<3.0.0,>=2.7.0->qdrant-client[fastembed]) (310)\n",
      "Requirement already satisfied: annotated-types>=0.6.0 in c:\\users\\usuario\\programming\\llm-zoomcamp\\.venv\\lib\\site-packages (from pydantic!=2.0.*,!=2.1.*,!=2.2.0,>=1.10.8->qdrant-client[fastembed]) (0.7.0)\n",
      "Requirement already satisfied: pydantic-core==2.33.2 in c:\\users\\usuario\\programming\\llm-zoomcamp\\.venv\\lib\\site-packages (from pydantic!=2.0.*,!=2.1.*,!=2.2.0,>=1.10.8->qdrant-client[fastembed]) (2.33.2)\n",
      "Requirement already satisfied: typing-extensions>=4.12.2 in c:\\users\\usuario\\programming\\llm-zoomcamp\\.venv\\lib\\site-packages (from pydantic!=2.0.*,!=2.1.*,!=2.2.0,>=1.10.8->qdrant-client[fastembed]) (4.14.0)\n",
      "Requirement already satisfied: typing-inspection>=0.4.0 in c:\\users\\usuario\\programming\\llm-zoomcamp\\.venv\\lib\\site-packages (from pydantic!=2.0.*,!=2.1.*,!=2.2.0,>=1.10.8->qdrant-client[fastembed]) (0.4.1)\n",
      "Requirement already satisfied: hyperframe<7,>=6.1 in c:\\users\\usuario\\programming\\llm-zoomcamp\\.venv\\lib\\site-packages (from h2<5,>=3->httpx[http2]>=0.20.0->qdrant-client[fastembed]) (6.1.0)\n",
      "Requirement already satisfied: hpack<5,>=4.1 in c:\\users\\usuario\\programming\\llm-zoomcamp\\.venv\\lib\\site-packages (from h2<5,>=3->httpx[http2]>=0.20.0->qdrant-client[fastembed]) (4.1.0)\n",
      "Requirement already satisfied: filelock in c:\\users\\usuario\\programming\\llm-zoomcamp\\.venv\\lib\\site-packages (from huggingface-hub<1.0,>=0.20->fastembed<0.8,>=0.7->qdrant-client[fastembed]) (3.18.0)\n",
      "Requirement already satisfied: fsspec>=2023.5.0 in c:\\users\\usuario\\programming\\llm-zoomcamp\\.venv\\lib\\site-packages (from huggingface-hub<1.0,>=0.20->fastembed<0.8,>=0.7->qdrant-client[fastembed]) (2025.5.1)\n",
      "Requirement already satisfied: packaging>=20.9 in c:\\users\\usuario\\programming\\llm-zoomcamp\\.venv\\lib\\site-packages (from huggingface-hub<1.0,>=0.20->fastembed<0.8,>=0.7->qdrant-client[fastembed]) (25.0)\n",
      "Requirement already satisfied: pyyaml>=5.1 in c:\\users\\usuario\\programming\\llm-zoomcamp\\.venv\\lib\\site-packages (from huggingface-hub<1.0,>=0.20->fastembed<0.8,>=0.7->qdrant-client[fastembed]) (6.0.2)\n",
      "Requirement already satisfied: colorama>=0.3.4 in c:\\users\\usuario\\programming\\llm-zoomcamp\\.venv\\lib\\site-packages (from loguru<0.8.0,>=0.7.2->fastembed<0.8,>=0.7->qdrant-client[fastembed]) (0.4.6)\n",
      "Requirement already satisfied: win32-setctime>=1.0.0 in c:\\users\\usuario\\programming\\llm-zoomcamp\\.venv\\lib\\site-packages (from loguru<0.8.0,>=0.7.2->fastembed<0.8,>=0.7->qdrant-client[fastembed]) (1.2.0)\n",
      "Requirement already satisfied: coloredlogs in c:\\users\\usuario\\programming\\llm-zoomcamp\\.venv\\lib\\site-packages (from onnxruntime>1.20.0->fastembed<0.8,>=0.7->qdrant-client[fastembed]) (15.0.1)\n",
      "Requirement already satisfied: flatbuffers in c:\\users\\usuario\\programming\\llm-zoomcamp\\.venv\\lib\\site-packages (from onnxruntime>1.20.0->fastembed<0.8,>=0.7->qdrant-client[fastembed]) (25.2.10)\n",
      "Requirement already satisfied: sympy in c:\\users\\usuario\\programming\\llm-zoomcamp\\.venv\\lib\\site-packages (from onnxruntime>1.20.0->fastembed<0.8,>=0.7->qdrant-client[fastembed]) (1.14.0)\n",
      "Requirement already satisfied: charset_normalizer<4,>=2 in c:\\users\\usuario\\programming\\llm-zoomcamp\\.venv\\lib\\site-packages (from requests<3.0,>=2.31->fastembed<0.8,>=0.7->qdrant-client[fastembed]) (3.4.2)\n",
      "Requirement already satisfied: sniffio>=1.1 in c:\\users\\usuario\\programming\\llm-zoomcamp\\.venv\\lib\\site-packages (from anyio->httpx>=0.20.0->httpx[http2]>=0.20.0->qdrant-client[fastembed]) (1.3.1)\n",
      "Requirement already satisfied: humanfriendly>=9.1 in c:\\users\\usuario\\programming\\llm-zoomcamp\\.venv\\lib\\site-packages (from coloredlogs->onnxruntime>1.20.0->fastembed<0.8,>=0.7->qdrant-client[fastembed]) (10.0)\n",
      "Requirement already satisfied: mpmath<1.4,>=1.1.0 in c:\\users\\usuario\\programming\\llm-zoomcamp\\.venv\\lib\\site-packages (from sympy->onnxruntime>1.20.0->fastembed<0.8,>=0.7->qdrant-client[fastembed]) (1.3.0)\n",
      "Requirement already satisfied: pyreadline3 in c:\\users\\usuario\\programming\\llm-zoomcamp\\.venv\\lib\\site-packages (from humanfriendly>=9.1->coloredlogs->onnxruntime>1.20.0->fastembed<0.8,>=0.7->qdrant-client[fastembed]) (3.5.4)\n",
      "Note: you may need to restart the kernel to use updated packages.\n"
     ]
    },
    {
     "name": "stderr",
     "output_type": "stream",
     "text": [
      "\n",
      "[notice] A new release of pip is available: 24.3.1 -> 25.1.1\n",
      "[notice] To update, run: python.exe -m pip install --upgrade pip\n"
     ]
    }
   ],
   "source": [
    "%pip install qdrant-client[fastembed]"
   ]
  },
  {
   "cell_type": "code",
   "execution_count": 2,
   "id": "b6e91fc1",
   "metadata": {},
   "outputs": [
    {
     "name": "stderr",
     "output_type": "stream",
     "text": [
      "c:\\Users\\usuario\\Programming\\llm-zoomcamp\\.venv\\Lib\\site-packages\\tqdm\\auto.py:21: TqdmWarning: IProgress not found. Please update jupyter and ipywidgets. See https://ipywidgets.readthedocs.io/en/stable/user_install.html\n",
      "  from .autonotebook import tqdm as notebook_tqdm\n"
     ]
    }
   ],
   "source": [
    "from fastembed import TextEmbedding\n",
    "\n",
    "query = 'I just discovered the course. Can I join now?'\n",
    "\n",
    "embedding_model = TextEmbedding(model_name='jinaai/jina-embeddings-v2-small-en')\n",
    "query_vector = next(embedding_model.embed(query))"
   ]
  },
  {
   "cell_type": "code",
   "execution_count": 3,
   "id": "94a1f956",
   "metadata": {},
   "outputs": [
    {
     "data": {
      "text/plain": [
       "numpy.ndarray"
      ]
     },
     "execution_count": 3,
     "metadata": {},
     "output_type": "execute_result"
    }
   ],
   "source": [
    "type(query_vector)"
   ]
  },
  {
   "cell_type": "markdown",
   "id": "766e50cf",
   "metadata": {},
   "source": [
    "Getting the minimum value present."
   ]
  },
  {
   "cell_type": "code",
   "execution_count": 4,
   "id": "b12279e0",
   "metadata": {},
   "outputs": [
    {
     "data": {
      "text/plain": [
       "np.float64(-0.11726373885183883)"
      ]
     },
     "execution_count": 4,
     "metadata": {},
     "output_type": "execute_result"
    }
   ],
   "source": [
    "min(query_vector)"
   ]
  },
  {
   "cell_type": "markdown",
   "id": "7ff9cf1a",
   "metadata": {},
   "source": [
    "The embedding is already normalized, which is why its length/magnitude is 1."
   ]
  },
  {
   "cell_type": "code",
   "execution_count": 5,
   "id": "fdba4029",
   "metadata": {},
   "outputs": [
    {
     "data": {
      "text/plain": [
       "np.float64(1.0)"
      ]
     },
     "execution_count": 5,
     "metadata": {},
     "output_type": "execute_result"
    }
   ],
   "source": [
    "import numpy as np\n",
    "\n",
    "np.linalg.norm(query_vector)"
   ]
  },
  {
   "cell_type": "markdown",
   "id": "da4b77ae",
   "metadata": {},
   "source": [
    "`cosine_similarity(a, b) = (a · b) / (|a| * |b|)`. Since `|a| = 1` and `|b| = 1`, we can calculate the cosine similarity by just performing the dot product."
   ]
  },
  {
   "cell_type": "code",
   "execution_count": 6,
   "id": "23560770",
   "metadata": {},
   "outputs": [
    {
     "data": {
      "text/plain": [
       "np.float64(1.0000000000000002)"
      ]
     },
     "execution_count": 6,
     "metadata": {},
     "output_type": "execute_result"
    }
   ],
   "source": [
    "query_vector.dot(query_vector)"
   ]
  },
  {
   "cell_type": "markdown",
   "id": "a1a7723c",
   "metadata": {},
   "source": [
    "The vector has an agle of 0 and degrees with itself thus a cosine value of 1. It is the most similar."
   ]
  },
  {
   "cell_type": "markdown",
   "id": "c3487591",
   "metadata": {},
   "source": [
    "### Q2 - Cosine Similarity With Another Vector"
   ]
  },
  {
   "cell_type": "code",
   "execution_count": 7,
   "id": "bf28c03e",
   "metadata": {},
   "outputs": [
    {
     "data": {
      "text/plain": [
       "np.float64(0.9008528895674548)"
      ]
     },
     "execution_count": 7,
     "metadata": {},
     "output_type": "execute_result"
    }
   ],
   "source": [
    "doc = 'Can I still join the course after the start date?'\n",
    "doc_vector = next(embedding_model.embed(doc))\n",
    "\n",
    "np.dot(query_vector, doc_vector)"
   ]
  },
  {
   "cell_type": "markdown",
   "id": "96704fa4",
   "metadata": {},
   "source": [
    "### Q3 - Ranking By Cosine"
   ]
  },
  {
   "cell_type": "code",
   "execution_count": 8,
   "id": "391db4d7",
   "metadata": {},
   "outputs": [],
   "source": [
    "docs = [\n",
    "    {'text': \"Yes, even if you don't register, you're still eligible to submit the homeworks.\\nBe aware, however, that there will be deadlines for turning in the final projects. So don't leave everything for the last minute.\",\n",
    "    'section': 'General course-related questions',\n",
    "    'question': 'Course - Can I still join the course after the start date?',\n",
    "    'course': 'data-engineering-zoomcamp'},\n",
    "    {'text': 'Yes, we will keep all the materials after the course finishes, so you can follow the course at your own pace after it finishes.\\nYou can also continue looking at the homeworks and continue preparing for the next cohort. I guess you can also start working on your final capstone project.',\n",
    "    'section': 'General course-related questions',\n",
    "    'question': 'Course - Can I follow the course after it finishes?',\n",
    "    'course': 'data-engineering-zoomcamp'},\n",
    "    {'text': \"The purpose of this document is to capture frequently asked technical questions\\nThe exact day and hour of the course will be 15th Jan 2024 at 17h00. The course will start with the first  “Office Hours'' live.1\\nSubscribe to course public Google Calendar (it works from Desktop only).\\nRegister before the course starts using this link.\\nJoin the course Telegram channel with announcements.\\nDon’t forget to register in DataTalks.Club's Slack and join the channel.\",\n",
    "    'section': 'General course-related questions',\n",
    "    'question': 'Course - When will the course start?',\n",
    "    'course': 'data-engineering-zoomcamp'},\n",
    "    {'text': 'You can start by installing and setting up all the dependencies and requirements:\\nGoogle cloud account\\nGoogle Cloud SDK\\nPython 3 (installed with Anaconda)\\nTerraform\\nGit\\nLook over the prerequisites and syllabus to see if you are comfortable with these subjects.',\n",
    "    'section': 'General course-related questions',\n",
    "    'question': 'Course - What can I do before the course starts?',\n",
    "    'course': 'data-engineering-zoomcamp'},\n",
    "    {'text': 'Star the repo! Share it with friends if you find it useful ❣️\\nCreate a PR if you see you can improve the text or the structure of the repository.',\n",
    "    'section': 'General course-related questions',\n",
    "    'question': 'How can we contribute to the course?',\n",
    "    'course': 'data-engineering-zoomcamp'}\n",
    "]"
   ]
  },
  {
   "cell_type": "code",
   "execution_count": 9,
   "id": "633a2e15",
   "metadata": {},
   "outputs": [],
   "source": [
    "vectors = list(\n",
    "    embedding_model.embed(\n",
    "        documents=[doc['text'] for doc in docs]\n",
    "    )\n",
    ")"
   ]
  },
  {
   "cell_type": "markdown",
   "id": "c592fd1c",
   "metadata": {},
   "source": [
    "**Solution 1**: Computing vector by vector."
   ]
  },
  {
   "cell_type": "code",
   "execution_count": 10,
   "id": "f2134681",
   "metadata": {},
   "outputs": [
    {
     "name": "stdout",
     "output_type": "stream",
     "text": [
      "Doc index: 1\n",
      "Cosine similarity: 0.8182378150042889\n"
     ]
    }
   ],
   "source": [
    "index, max_cosine = None, -1\n",
    "for i, vector in enumerate(vectors):\n",
    "    cosine = np.dot(query_vector, vector)\n",
    "    if cosine > max_cosine:\n",
    "        index, max_cosine = i, cosine\n",
    "\n",
    "print(f\"Doc index: {index}\")\n",
    "print(f\"Cosine similarity: {max_cosine}\")"
   ]
  },
  {
   "cell_type": "code",
   "execution_count": 11,
   "id": "ba4f93c2",
   "metadata": {},
   "outputs": [
    {
     "data": {
      "text/plain": [
       "{'text': 'Yes, we will keep all the materials after the course finishes, so you can follow the course at your own pace after it finishes.\\nYou can also continue looking at the homeworks and continue preparing for the next cohort. I guess you can also start working on your final capstone project.',\n",
       " 'section': 'General course-related questions',\n",
       " 'question': 'Course - Can I follow the course after it finishes?',\n",
       " 'course': 'data-engineering-zoomcamp'}"
      ]
     },
     "execution_count": 11,
     "metadata": {},
     "output_type": "execute_result"
    }
   ],
   "source": [
    "docs[index]"
   ]
  },
  {
   "cell_type": "markdown",
   "id": "b087b187",
   "metadata": {},
   "source": [
    "**Solution 2**: Computing with matrix."
   ]
  },
  {
   "cell_type": "code",
   "execution_count": 12,
   "id": "3e7a2497",
   "metadata": {},
   "outputs": [
    {
     "name": "stdout",
     "output_type": "stream",
     "text": [
      "Doc index: 1\n",
      "Cosine similarity: 0.8182378150042889\n"
     ]
    }
   ],
   "source": [
    "matrix = np.array(vectors)\n",
    "cosines = matrix.dot(query_vector)\n",
    "\n",
    "index = np.argmax(cosines)\n",
    "max_cosine = cosines[index]\n",
    "\n",
    "print(f\"Doc index: {index}\")\n",
    "print(f\"Cosine similarity: {max_cosine}\")"
   ]
  },
  {
   "cell_type": "code",
   "execution_count": 13,
   "id": "0caaa64a",
   "metadata": {},
   "outputs": [
    {
     "data": {
      "text/plain": [
       "{'text': 'Yes, we will keep all the materials after the course finishes, so you can follow the course at your own pace after it finishes.\\nYou can also continue looking at the homeworks and continue preparing for the next cohort. I guess you can also start working on your final capstone project.',\n",
       " 'section': 'General course-related questions',\n",
       " 'question': 'Course - Can I follow the course after it finishes?',\n",
       " 'course': 'data-engineering-zoomcamp'}"
      ]
     },
     "execution_count": 13,
     "metadata": {},
     "output_type": "execute_result"
    }
   ],
   "source": [
    "docs[index]"
   ]
  },
  {
   "cell_type": "markdown",
   "id": "8fd28185",
   "metadata": {},
   "source": [
    "### Q4 - Ranking By Cosine (V2)"
   ]
  },
  {
   "cell_type": "code",
   "execution_count": 14,
   "id": "1a30d0b1",
   "metadata": {},
   "outputs": [],
   "source": [
    "vectors = list(\n",
    "    embedding_model.embed(\n",
    "        documents=[\n",
    "            doc['question'] + ' ' + doc['text'] \n",
    "            for doc in docs\n",
    "        ]\n",
    "    )\n",
    ")"
   ]
  },
  {
   "cell_type": "code",
   "execution_count": 15,
   "id": "4b6f2775",
   "metadata": {},
   "outputs": [
    {
     "name": "stdout",
     "output_type": "stream",
     "text": [
      "Doc index: 0\n",
      "Cosine similarity: 0.8514543236908068\n"
     ]
    }
   ],
   "source": [
    "matrix = np.array(vectors)\n",
    "cosines = matrix.dot(query_vector)\n",
    "\n",
    "index = np.argmax(cosines)\n",
    "max_cosine = cosines[index]\n",
    "\n",
    "print(f\"Doc index: {index}\")\n",
    "print(f\"Cosine similarity: {max_cosine}\")"
   ]
  },
  {
   "cell_type": "code",
   "execution_count": 16,
   "id": "4ad16418",
   "metadata": {},
   "outputs": [
    {
     "data": {
      "text/plain": [
       "{'text': \"Yes, even if you don't register, you're still eligible to submit the homeworks.\\nBe aware, however, that there will be deadlines for turning in the final projects. So don't leave everything for the last minute.\",\n",
       " 'section': 'General course-related questions',\n",
       " 'question': 'Course - Can I still join the course after the start date?',\n",
       " 'course': 'data-engineering-zoomcamp'}"
      ]
     },
     "execution_count": 16,
     "metadata": {},
     "output_type": "execute_result"
    }
   ],
   "source": [
    "docs[index]"
   ]
  },
  {
   "cell_type": "markdown",
   "id": "fbbd22f1",
   "metadata": {},
   "source": [
    "Now the highest ranked document contains the actual answer to the query. This is because we also added the question to the embedding, which contributes semantically."
   ]
  },
  {
   "cell_type": "markdown",
   "id": "d50661ce",
   "metadata": {},
   "source": [
    "### Q5 - Selecting The Embedding Model"
   ]
  },
  {
   "cell_type": "code",
   "execution_count": 24,
   "id": "cd79f351",
   "metadata": {},
   "outputs": [
    {
     "data": {
      "text/plain": [
       "{'model': 'BAAI/bge-small-en',\n",
       " 'sources': {'hf': 'Qdrant/bge-small-en',\n",
       "  'url': 'https://storage.googleapis.com/qdrant-fastembed/BAAI-bge-small-en.tar.gz',\n",
       "  '_deprecated_tar_struct': True},\n",
       " 'model_file': 'model_optimized.onnx',\n",
       " 'description': 'Text embeddings, Unimodal (text), English, 512 input tokens truncation, Prefixes for queries/documents: necessary, 2023 year.',\n",
       " 'license': 'mit',\n",
       " 'size_in_GB': 0.13,\n",
       " 'additional_files': [],\n",
       " 'dim': 384,\n",
       " 'tasks': {}}"
      ]
     },
     "execution_count": 24,
     "metadata": {},
     "output_type": "execute_result"
    }
   ],
   "source": [
    "supported_models = TextEmbedding.list_supported_models()\n",
    "\n",
    "model_info = min(supported_models, key=lambda d: d['dim'])\n",
    "model_info"
   ]
  },
  {
   "cell_type": "code",
   "execution_count": 25,
   "id": "938c9c74",
   "metadata": {},
   "outputs": [],
   "source": [
    "model_handle = model_info['model']"
   ]
  },
  {
   "cell_type": "markdown",
   "id": "4c0b7b42",
   "metadata": {},
   "source": [
    "### Q6 - Indexing With Qdrant"
   ]
  },
  {
   "cell_type": "code",
   "execution_count": 26,
   "id": "5c46125c",
   "metadata": {},
   "outputs": [],
   "source": [
    "import requests \n",
    "\n",
    "docs_url = 'https://github.com/alexeygrigorev/llm-rag-workshop/raw/main/notebooks/documents.json'\n",
    "docs_response = requests.get(docs_url)\n",
    "documents_raw = docs_response.json()\n",
    "\n",
    "documents = []\n",
    "\n",
    "for course in documents_raw:\n",
    "    course_name = course['course']\n",
    "    if course_name != 'machine-learning-zoomcamp':\n",
    "        continue\n",
    "\n",
    "    for doc in course['documents']:\n",
    "        doc['course'] = course_name\n",
    "        documents.append(doc)"
   ]
  },
  {
   "cell_type": "code",
   "execution_count": 27,
   "id": "3baf983e",
   "metadata": {},
   "outputs": [],
   "source": [
    "from qdrant_client import QdrantClient, models\n",
    "\n",
    "client = QdrantClient(\"http://localhost:6333\")"
   ]
  },
  {
   "cell_type": "code",
   "execution_count": 28,
   "id": "90dc1e3e",
   "metadata": {},
   "outputs": [
    {
     "data": {
      "text/plain": [
       "True"
      ]
     },
     "execution_count": 28,
     "metadata": {},
     "output_type": "execute_result"
    }
   ],
   "source": [
    "collection_name = 'rag'\n",
    "client.create_collection(\n",
    "    collection_name=collection_name,\n",
    "    vectors_config=models.VectorParams(\n",
    "        size=client.get_embedding_size(model_handle),\n",
    "        distance=models.Distance.COSINE\n",
    "    )\n",
    ")"
   ]
  },
  {
   "cell_type": "code",
   "execution_count": 29,
   "id": "c39c0571",
   "metadata": {},
   "outputs": [],
   "source": [
    "client.upload_collection(\n",
    "    collection_name=collection_name,\n",
    "    vectors=[\n",
    "        models.Document(\n",
    "            text=doc['question'] + ' ' + doc['text'], \n",
    "            model=model_handle\n",
    "        ) \n",
    "        for doc in documents\n",
    "    ],\n",
    "    payload=[doc for doc in documents],\n",
    "    ids=[index for index in range(0, len(documents))],\n",
    ")"
   ]
  },
  {
   "cell_type": "code",
   "execution_count": 30,
   "id": "3136503b",
   "metadata": {},
   "outputs": [
    {
     "data": {
      "text/plain": [
       "ScoredPoint(id=14, version=0, score=0.8703172, payload={'text': 'Yes, you can. You won’t be able to submit some of the homeworks, but you can still take part in the course.\\nIn order to get a certificate, you need to submit 2 out of 3 course projects and review 3 peers’ Projects by the deadline. It means that if you join the course at the end of November and manage to work on two projects, you will still be eligible for a certificate.', 'section': 'General course-related questions', 'question': 'The course has already started. Can I still join it?', 'course': 'machine-learning-zoomcamp'}, vector=None, shard_key=None, order_value=None)"
      ]
     },
     "execution_count": 30,
     "metadata": {},
     "output_type": "execute_result"
    }
   ],
   "source": [
    "search_result = client.query_points(\n",
    "    collection_name=collection_name,\n",
    "    query=models.Document(\n",
    "        text=query, \n",
    "        model=model_handle\n",
    "    ),\n",
    "    limit=1\n",
    ")\n",
    "search_result.points[0]"
   ]
  },
  {
   "cell_type": "markdown",
   "id": "a2e75dba",
   "metadata": {},
   "source": [
    "The result is different as we are using a smaller embedding model."
   ]
  }
 ],
 "metadata": {
  "kernelspec": {
   "display_name": ".venv",
   "language": "python",
   "name": "python3"
  },
  "language_info": {
   "codemirror_mode": {
    "name": "ipython",
    "version": 3
   },
   "file_extension": ".py",
   "mimetype": "text/x-python",
   "name": "python",
   "nbconvert_exporter": "python",
   "pygments_lexer": "ipython3",
   "version": "3.13.1"
  }
 },
 "nbformat": 4,
 "nbformat_minor": 5
}
